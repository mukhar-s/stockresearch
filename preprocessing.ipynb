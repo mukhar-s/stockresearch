{
 "cells": [
  {
   "cell_type": "code",
   "execution_count": 16,
   "id": "02544c4b",
   "metadata": {},
   "outputs": [],
   "source": [
    "import pandas as pd\n",
    "import os\n"
   ]
  },
  {
   "cell_type": "code",
   "execution_count": 17,
   "id": "10700d37",
   "metadata": {},
   "outputs": [],
   "source": [
    "def read_stock_data(base_path, filenames):\n",
    "    \"\"\"\n",
    "    Reads multiple stock CSV files into a dictionary of DataFrames.\n",
    "    \"\"\"\n",
    "    stock_data = {}\n",
    "    for company, filename in filenames.items():\n",
    "        file_path = os.path.join(base_path, filename)\n",
    "        stock_data[company] = pd.read_csv(file_path)\n",
    "    return stock_data\n",
    "\n",
    "def transform_stock_data(df):\n",
    "    \"\"\"\n",
    "    Adds moving averages, and daily changes to the stock DataFrame.\n",
    "    \"\"\"\n",
    "    df = df.copy()\n",
    "    df['MA50'] = df['Close'].rolling(window=50).mean()\n",
    "    df['MA200'] = df['Close'].rolling(window=200).mean()\n",
    "    \n",
    "    df['Previous day close price'] = df['Close'].shift(1)\n",
    "    df['Previous day volume'] = df['Volume'].shift(1)\n",
    "    \n",
    "    df['Change in price'] = df['Close'] - df['Previous day close price']\n",
    "    df['Percent change in price'] = df['Close'].pct_change()\n",
    "    \n",
    "    df['Change in volume'] = df['Volume'] - df['Previous day volume']\n",
    "    df['Percent change in volume'] = df['Volume'].pct_change()\n",
    "    \n",
    "    return df\n",
    "\n",
    "def save_transformed_data(stock_data, output_dir='.'):\n",
    "    \"\"\"\n",
    "    Saves each transformed DataFrame to a CSV.\n",
    "    \"\"\"\n",
    "    for company, df in stock_data.items():\n",
    "        output_path = os.path.join(output_dir, f\"{company}.csv\")\n",
    "        df.to_csv(output_path, index=False)\n"
   ]
  },
  {
   "cell_type": "code",
   "execution_count": null,
   "id": "4797b372",
   "metadata": {},
   "outputs": [],
   "source": [
    "# Set your base path where CSV files are stored\n",
    "base_path = ''\n",
    "\n",
    "# Dictionary of company names and filenames\n",
    "filenames = {\n",
    "    'Apple': 'AAPL.csv',\n",
    "    'Facebook': 'FB.csv',\n",
    "    'Google': 'GOOGL.csv',\n",
    "    'Nvidia': 'NVDA.csv',\n",
    "    'Tesla': 'TSLA.csv',\n",
    "    'Twitter': 'TWTR.csv'\n",
    "}\n"
   ]
  },
  {
   "cell_type": "code",
   "execution_count": 19,
   "id": "130afd6b",
   "metadata": {},
   "outputs": [
    {
     "name": "stderr",
     "output_type": "stream",
     "text": [
      "/var/folders/jq/9qjj4zd971g1bnzlgq725ksw0000gn/T/ipykernel_7690/3510151150.py:23: FutureWarning: The default fill_method='pad' in Series.pct_change is deprecated and will be removed in a future version. Either fill in any non-leading NA values prior to calling pct_change or specify 'fill_method=None' to not fill NA values.\n",
      "  df['Percent change in price'] = df['Close'].pct_change()\n",
      "/var/folders/jq/9qjj4zd971g1bnzlgq725ksw0000gn/T/ipykernel_7690/3510151150.py:26: FutureWarning: The default fill_method='pad' in Series.pct_change is deprecated and will be removed in a future version. Either fill in any non-leading NA values prior to calling pct_change or specify 'fill_method=None' to not fill NA values.\n",
      "  df['Percent change in volume'] = df['Volume'].pct_change()\n"
     ]
    }
   ],
   "source": [
    "# Read the data\n",
    "raw_data = read_stock_data(base_path, filenames)\n",
    "\n",
    "# Apply transformations\n",
    "transformed_data = {}\n",
    "for company, df in raw_data.items():\n",
    "    transformed_data[company] = transform_stock_data(df)\n"
   ]
  },
  {
   "cell_type": "code",
   "execution_count": null,
   "id": "e5957bdb",
   "metadata": {},
   "outputs": [],
   "source": [
    "# Save CSV files locally\n",
    "save_transformed_data(transformed_data)\n"
   ]
  }
 ],
 "metadata": {
  "kernelspec": {
   "display_name": "llmEnv",
   "language": "python",
   "name": "python3"
  },
  "language_info": {
   "codemirror_mode": {
    "name": "ipython",
    "version": 3
   },
   "file_extension": ".py",
   "mimetype": "text/x-python",
   "name": "python",
   "nbconvert_exporter": "python",
   "pygments_lexer": "ipython3",
   "version": "3.10.16"
  }
 },
 "nbformat": 4,
 "nbformat_minor": 5
}
